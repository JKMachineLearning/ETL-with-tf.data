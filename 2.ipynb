{
 "cells": [
  {
   "cell_type": "markdown",
   "id": "emotional-pendant",
   "metadata": {},
   "source": [
    "# ETL with tf & Keras"
   ]
  },
  {
   "cell_type": "markdown",
   "id": "double-stand",
   "metadata": {},
   "source": [
    "## Librairies"
   ]
  },
  {
   "cell_type": "code",
   "execution_count": 1,
   "id": "supreme-obligation",
   "metadata": {},
   "outputs": [
    {
     "data": {
      "text/plain": [
       "'2.4.1'"
      ]
     },
     "execution_count": 1,
     "metadata": {},
     "output_type": "execute_result"
    }
   ],
   "source": [
    "import os\n",
    "\n",
    "import pandas as pd\n",
    "import matplotlib.pyplot as plt\n",
    "import tensorflow as tf\n",
    "tf.__version__"
   ]
  },
  {
   "cell_type": "markdown",
   "id": "retained-relationship",
   "metadata": {},
   "source": [
    "## Paths & Config"
   ]
  },
  {
   "cell_type": "code",
   "execution_count": 2,
   "id": "figured-jonathan",
   "metadata": {},
   "outputs": [],
   "source": [
    "DATA_DIR = \"/home/joseph/idermatoDeepLearning/data/raw_Data/images_medicales\"\n",
    "CHECKPOINT = \"models/classifier-weights.hdf5\"\n",
    "SAVE_MODEL_PATH = \"models/classifier.h5\"\n",
    "TENSORBOARD = \"logs\"\n",
    "\n",
    "VALIDATION_SPLIT = 0.2\n",
    "\n",
    "WIDTH = 150\n",
    "HEIGHT = 150\n",
    "NUM_CHANNELS = 3\n",
    "INPUT_SHAPE = (WIDTH, HEIGHT, NUM_CHANNELS)\n",
    "\n",
    "LEARNING_RATE = 1e-4\n",
    "\n",
    "EPOCHS = 10\n",
    "BATCH_SIZE = 16"
   ]
  },
  {
   "cell_type": "markdown",
   "id": "everyday-cornell",
   "metadata": {},
   "source": [
    "## Data"
   ]
  },
  {
   "cell_type": "code",
   "execution_count": 3,
   "id": "nasty-flower",
   "metadata": {},
   "outputs": [
    {
     "data": {
      "text/html": [
       "<div>\n",
       "<style scoped>\n",
       "    .dataframe tbody tr th:only-of-type {\n",
       "        vertical-align: middle;\n",
       "    }\n",
       "\n",
       "    .dataframe tbody tr th {\n",
       "        vertical-align: top;\n",
       "    }\n",
       "\n",
       "    .dataframe thead th {\n",
       "        text-align: right;\n",
       "    }\n",
       "</style>\n",
       "<table border=\"1\" class=\"dataframe\">\n",
       "  <thead>\n",
       "    <tr style=\"text-align: right;\">\n",
       "      <th></th>\n",
       "      <th>IMAGE_PATH</th>\n",
       "      <th>LABEL</th>\n",
       "    </tr>\n",
       "  </thead>\n",
       "  <tbody>\n",
       "    <tr>\n",
       "      <th>0</th>\n",
       "      <td>/home/joseph/idermatoDeepLearning/./data/raw_D...</td>\n",
       "      <td>Impétigo</td>\n",
       "    </tr>\n",
       "    <tr>\n",
       "      <th>1</th>\n",
       "      <td>/home/joseph/idermatoDeepLearning/./data/raw_D...</td>\n",
       "      <td>Eczema_nummulaire</td>\n",
       "    </tr>\n",
       "    <tr>\n",
       "      <th>2</th>\n",
       "      <td>/home/joseph/idermatoDeepLearning/./data/raw_D...</td>\n",
       "      <td>Hemangiome</td>\n",
       "    </tr>\n",
       "    <tr>\n",
       "      <th>3</th>\n",
       "      <td>/home/joseph/idermatoDeepLearning/./data/raw_D...</td>\n",
       "      <td>Pemphigus_foliacé</td>\n",
       "    </tr>\n",
       "    <tr>\n",
       "      <th>4</th>\n",
       "      <td>/home/joseph/idermatoDeepLearning/./data/raw_D...</td>\n",
       "      <td>Lupus</td>\n",
       "    </tr>\n",
       "  </tbody>\n",
       "</table>\n",
       "</div>"
      ],
      "text/plain": [
       "                                          IMAGE_PATH              LABEL\n",
       "0  /home/joseph/idermatoDeepLearning/./data/raw_D...           Impétigo\n",
       "1  /home/joseph/idermatoDeepLearning/./data/raw_D...  Eczema_nummulaire\n",
       "2  /home/joseph/idermatoDeepLearning/./data/raw_D...         Hemangiome\n",
       "3  /home/joseph/idermatoDeepLearning/./data/raw_D...  Pemphigus_foliacé\n",
       "4  /home/joseph/idermatoDeepLearning/./data/raw_D...              Lupus"
      ]
     },
     "execution_count": 3,
     "metadata": {},
     "output_type": "execute_result"
    }
   ],
   "source": [
    "dt = pd.read_csv(\"data.csv\")\n",
    "dt.head()"
   ]
  },
  {
   "cell_type": "code",
   "execution_count": 4,
   "id": "seven-buffer",
   "metadata": {},
   "outputs": [
    {
     "name": "stdout",
     "output_type": "stream",
     "text": [
      "Found 589 validated image filenames belonging to 10 classes.\n",
      "Found 147 validated image filenames belonging to 10 classes.\n",
      "Total classes: 10\n"
     ]
    }
   ],
   "source": [
    "generator = tf.keras.preprocessing.image.ImageDataGenerator(\n",
    "    rescale=1./255,\n",
    "    validation_split=VALIDATION_SPLIT\n",
    ")\n",
    "train_set = generator.flow_from_dataframe(\n",
    "    dataframe=dt,\n",
    "    x_col=\"IMAGE_PATH\",\n",
    "    y_col=\"LABEL\",\n",
    "    target_size=(WIDTH, HEIGHT),\n",
    "    batch_size=BATCH_SIZE,\n",
    "    class_mode='categorical',\n",
    "    subset='training',\n",
    "    shuffle=True\n",
    ")\n",
    "val_set = generator.flow_from_dataframe(\n",
    "    dataframe=dt,\n",
    "    x_col=\"IMAGE_PATH\",\n",
    "    y_col=\"LABEL\",\n",
    "    target_size=(WIDTH, HEIGHT),\n",
    "    batch_size=BATCH_SIZE,\n",
    "    class_mode='categorical',\n",
    "    subset='validation'\n",
    ")\n",
    "num_classes = len(train_set.class_indices)\n",
    "print(\"Total classes:\", num_classes)"
   ]
  },
  {
   "cell_type": "markdown",
   "id": "floating-parks",
   "metadata": {},
   "source": [
    "## Model Transfer Learning"
   ]
  },
  {
   "cell_type": "code",
   "execution_count": 5,
   "id": "distinguished-guide",
   "metadata": {},
   "outputs": [
    {
     "name": "stdout",
     "output_type": "stream",
     "text": [
      "Model: \"sequential\"\n",
      "_________________________________________________________________\n",
      "Layer (type)                 Output Shape              Param #   \n",
      "=================================================================\n",
      "inception_v3 (Functional)    (None, 3, 3, 2048)        21802784  \n",
      "_________________________________________________________________\n",
      "globalaverage2d1 (GlobalAver (None, 2048)              0         \n",
      "_________________________________________________________________\n",
      "dense1024 (Dense)            (None, 1024)              2098176   \n",
      "_________________________________________________________________\n",
      "classifier (Dense)           (None, 10)                10250     \n",
      "=================================================================\n",
      "Total params: 23,911,210\n",
      "Trainable params: 2,108,426\n",
      "Non-trainable params: 21,802,784\n",
      "_________________________________________________________________\n",
      "None\n"
     ]
    }
   ],
   "source": [
    "def build_model(input_shape, num_classes):\n",
    "    base_model = tf.keras.applications.inception_v3.InceptionV3(\n",
    "        weights='imagenet',\n",
    "        include_top=False,\n",
    "        input_shape=input_shape)\n",
    "\n",
    "    # Freeze base model\n",
    "    base_model.trainable = False\n",
    "\n",
    "    # Build model\n",
    "    model = tf.keras.Sequential([\n",
    "        base_model,\n",
    "        tf.keras.layers.GlobalAveragePooling2D(name='globalaverage2d1'),\n",
    "        tf.keras.layers.Dense(1024, activation='relu', name='dense1024'),\n",
    "        tf.keras.layers.Dense(units=num_classes, activation='softmax', name='classifier')\n",
    "    ])\n",
    "\n",
    "    return model\n",
    "\n",
    "model = build_model(INPUT_SHAPE, num_classes)\n",
    "print(model.summary())"
   ]
  },
  {
   "cell_type": "markdown",
   "id": "absent-census",
   "metadata": {},
   "source": [
    "## Restore checkpoints"
   ]
  },
  {
   "cell_type": "code",
   "execution_count": 6,
   "id": "cleared-toilet",
   "metadata": {},
   "outputs": [],
   "source": [
    "if os.path.exists(CHECKPOINT):\n",
    "    try:\n",
    "        _ = model.load_weights(CHECKPOINT, by_name=False)\n",
    "    except:\n",
    "        pass"
   ]
  },
  {
   "cell_type": "markdown",
   "id": "cooked-blocking",
   "metadata": {},
   "source": [
    "## Loss & Optimizer"
   ]
  },
  {
   "cell_type": "code",
   "execution_count": 7,
   "id": "dress-popularity",
   "metadata": {},
   "outputs": [],
   "source": [
    "model.compile(loss=tf.keras.losses.CategoricalCrossentropy(),\n",
    "              optimizer=tf.keras.optimizers.RMSprop(lr=LEARNING_RATE),\n",
    "              metrics=[\"acc\"])"
   ]
  },
  {
   "cell_type": "markdown",
   "id": "geographic-principle",
   "metadata": {},
   "source": [
    "## Callbacks"
   ]
  },
  {
   "cell_type": "code",
   "execution_count": 8,
   "id": "ready-lease",
   "metadata": {},
   "outputs": [],
   "source": [
    "callback_checkpoint = tf.keras.callbacks.ModelCheckpoint(\n",
    "    filepath=CHECKPOINT,\n",
    "    verbose=0,\n",
    "    save_weights_only=True\n",
    ")\n",
    "callback_tensorboard = tf.keras.callbacks.TensorBoard(\n",
    "    log_dir=TENSORBOARD,\n",
    "    write_images=True\n",
    ")\n",
    "\n",
    "callbacks = [callback_checkpoint, callback_tensorboard]"
   ]
  },
  {
   "cell_type": "markdown",
   "id": "short-nebraska",
   "metadata": {},
   "source": [
    "## Training"
   ]
  },
  {
   "cell_type": "code",
   "execution_count": 9,
   "id": "attached-proxy",
   "metadata": {},
   "outputs": [
    {
     "name": "stdout",
     "output_type": "stream",
     "text": [
      "Epoch 1/10\n",
      "33/37 [=========================>....] - ETA: 11s - loss: 0.5423 - acc: 0.8623"
     ]
    },
    {
     "name": "stderr",
     "output_type": "stream",
     "text": [
      "/home/joseph/anaconda3/envs/tf/lib/python3.8/site-packages/PIL/TiffImagePlugin.py:793: UserWarning: Corrupt EXIF data.  Expecting to read 4 bytes but only got 0. \n",
      "  warnings.warn(str(msg))\n"
     ]
    },
    {
     "name": "stdout",
     "output_type": "stream",
     "text": [
      "37/37 [==============================] - 192s 4s/step - loss: 0.5312 - acc: 0.8665 - val_loss: 0.5687 - val_acc: 0.8707\n",
      "Epoch 2/10\n",
      "37/37 [==============================] - 136s 4s/step - loss: 0.1540 - acc: 0.9491 - val_loss: 0.4993 - val_acc: 0.8912\n",
      "Epoch 3/10\n",
      "37/37 [==============================] - 135s 4s/step - loss: 0.0461 - acc: 0.9873 - val_loss: 0.5306 - val_acc: 0.8844\n",
      "Epoch 4/10\n",
      "37/37 [==============================] - 133s 4s/step - loss: 0.0281 - acc: 0.9944 - val_loss: 0.4601 - val_acc: 0.8776\n",
      "Epoch 5/10\n",
      "37/37 [==============================] - 133s 4s/step - loss: 0.0266 - acc: 0.9956 - val_loss: 0.5024 - val_acc: 0.8776\n",
      "Epoch 6/10\n",
      "37/37 [==============================] - 134s 4s/step - loss: 0.0063 - acc: 0.9987 - val_loss: 0.5062 - val_acc: 0.8980\n",
      "Epoch 7/10\n",
      "37/37 [==============================] - 133s 4s/step - loss: 0.0406 - acc: 0.9955 - val_loss: 0.5469 - val_acc: 0.8912\n",
      "Epoch 8/10\n",
      "37/37 [==============================] - 133s 4s/step - loss: 0.0139 - acc: 0.9958 - val_loss: 0.5109 - val_acc: 0.8844\n",
      "Epoch 9/10\n",
      "37/37 [==============================] - 133s 4s/step - loss: 0.0031 - acc: 0.9996 - val_loss: 0.6987 - val_acc: 0.8639\n",
      "Epoch 10/10\n",
      "37/37 [==============================] - 133s 4s/step - loss: 0.0051 - acc: 0.9993 - val_loss: 0.5378 - val_acc: 0.8912\n"
     ]
    }
   ],
   "source": [
    "history = model.fit(\n",
    "    train_set,\n",
    "    epochs=EPOCHS,\n",
    "    validation_data=val_set,\n",
    "    callbacks=callbacks\n",
    ")"
   ]
  },
  {
   "cell_type": "code",
   "execution_count": 10,
   "id": "false-russia",
   "metadata": {},
   "outputs": [
    {
     "data": {
      "image/png": "[encoded data removed]",
      "text/plain": [
       "<Figure size 576x288 with 1 Axes>"
      ]
     },
     "metadata": {
      "needs_background": "light"
     },
     "output_type": "display_data"
    },
    {
     "data": {
      "image/png": "[encoded data removed]",
      "text/plain": [
       "<Figure size 576x288 with 1 Axes>"
      ]
     },
     "metadata": {
      "needs_background": "light"
     },
     "output_type": "display_data"
    }
   ],
   "source": [
    "acc = history.history['acc']\n",
    "loss = history.history['loss']\n",
    "val_acc = history.history['val_acc']\n",
    "val_loss = history.history['val_loss']\n",
    "epochs = range(1, len(acc) + 1)\n",
    "\n",
    "plt.figure(figsize=(8, 4))\n",
    "plt.plot(epochs, acc, 'bo', label='Training Accuracy')\n",
    "plt.plot(epochs, val_acc, 'b', label='Validation Accuracy')\n",
    "plt.xlabel('Epoch')\n",
    "plt.ylabel('Accuracy')\n",
    "plt.title('Training and validation accuracy')\n",
    "plt.legend(loc='best')\n",
    "plt.show()\n",
    "\n",
    "plt.figure(figsize=(8, 4))\n",
    "plt.plot(epochs, loss, 'bo', label='Training Loss')\n",
    "plt.plot(epochs, val_loss, 'b', label='Validation Loss')\n",
    "plt.xlabel('Epoch')\n",
    "plt.ylabel('Loss')\n",
    "plt.title('Training and validation loss')\n",
    "plt.legend(loc='best')\n",
    "plt.show()"
   ]
  },
  {
   "cell_type": "markdown",
   "id": "explicit-shame",
   "metadata": {},
   "source": [
    "## Save model"
   ]
  },
  {
   "cell_type": "code",
   "execution_count": 11,
   "id": "recovered-ottawa",
   "metadata": {},
   "outputs": [],
   "source": [
    "model.save(SAVE_MODEL_PATH)"
   ]
  }
 ],
 "metadata": {
  "kernelspec": {
   "display_name": "Python 3",
   "language": "python",
   "name": "python3"
  },
  "language_info": {
   "codemirror_mode": {
    "name": "ipython",
    "version": 3
   },
   "file_extension": ".py",
   "mimetype": "text/x-python",
   "name": "python",
   "nbconvert_exporter": "python",
   "pygments_lexer": "ipython3",
   "version": "3.8.8"
  }
 },
 "nbformat": 4,
 "nbformat_minor": 5
}
