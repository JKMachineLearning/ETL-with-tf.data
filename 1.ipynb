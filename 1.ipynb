{
 "cells": [
  {
   "cell_type": "markdown",
   "id": "acoustic-strengthening",
   "metadata": {},
   "source": [
    "# ETL with tf & Keras"
   ]
  },
  {
   "cell_type": "markdown",
   "id": "equivalent-vermont",
   "metadata": {},
   "source": [
    "## Librairies"
   ]
  },
  {
   "cell_type": "code",
   "execution_count": 1,
   "id": "placed-friday",
   "metadata": {},
   "outputs": [
    {
     "data": {
      "text/plain": [
       "'2.4.1'"
      ]
     },
     "execution_count": 1,
     "metadata": {},
     "output_type": "execute_result"
    }
   ],
   "source": [
    "import os\n",
    "\n",
    "import matplotlib.pyplot as plt\n",
    "import tensorflow as tf\n",
    "tf.__version__"
   ]
  },
  {
   "cell_type": "markdown",
   "id": "spare-split",
   "metadata": {},
   "source": [
    "## Paths & Config"
   ]
  },
  {
   "cell_type": "code",
   "execution_count": 2,
   "id": "excellent-context",
   "metadata": {},
   "outputs": [],
   "source": [
    "DATA_DIR = \"data/flower_photos\"\n",
    "CHECKPOINT = \"models/classifier-weights.hdf5\"\n",
    "SAVE_MODEL_PATH = \"models/classifier.h5\"\n",
    "TENSORBOARD = \"logs\"\n",
    "\n",
    "VALIDATION_SPLIT = 0.2\n",
    "\n",
    "WIDTH = 150\n",
    "HEIGHT = 150\n",
    "NUM_CHANNELS = 3\n",
    "INPUT_SHAPE = (WIDTH, HEIGHT, NUM_CHANNELS)\n",
    "\n",
    "LEARNING_RATE = 1e-4\n",
    "\n",
    "EPOCHS = 10\n",
    "BATCH_SIZE = 16"
   ]
  },
  {
   "cell_type": "markdown",
   "id": "together-saying",
   "metadata": {},
   "source": [
    "## Data"
   ]
  },
  {
   "cell_type": "code",
   "execution_count": 3,
   "id": "historic-durham",
   "metadata": {},
   "outputs": [
    {
     "name": "stdout",
     "output_type": "stream",
     "text": [
      "Found 592 images belonging to 10 classes.\n",
      "Found 144 images belonging to 10 classes.\n",
      "Total classes: 10\n"
     ]
    }
   ],
   "source": [
    "generator = tf.keras.preprocessing.image.ImageDataGenerator(\n",
    "    rescale=1./255,\n",
    "    validation_split=VALIDATION_SPLIT\n",
    ")\n",
    "train_set = generator.flow_from_directory(\n",
    "    DATA_DIR,\n",
    "    target_size=(WIDTH, HEIGHT),\n",
    "    batch_size=BATCH_SIZE,\n",
    "    class_mode='categorical',\n",
    "    subset='training',\n",
    "    shuffle=True\n",
    ")\n",
    "val_set = generator.flow_from_directory(\n",
    "    DATA_DIR,\n",
    "    target_size=(WIDTH, HEIGHT),\n",
    "    batch_size=BATCH_SIZE,\n",
    "    class_mode='categorical',\n",
    "    subset='validation'\n",
    ")\n",
    "num_classes = len(train_set.class_indices)\n",
    "print(\"Total classes:\", num_classes)"
   ]
  },
  {
   "cell_type": "markdown",
   "id": "elect-education",
   "metadata": {},
   "source": [
    "## Model Transfer Learning"
   ]
  },
  {
   "cell_type": "code",
   "execution_count": 4,
   "id": "living-speaker",
   "metadata": {},
   "outputs": [
    {
     "name": "stdout",
     "output_type": "stream",
     "text": [
      "Model: \"sequential\"\n",
      "_________________________________________________________________\n",
      "Layer (type)                 Output Shape              Param #   \n",
      "=================================================================\n",
      "inception_v3 (Functional)    (None, 3, 3, 2048)        21802784  \n",
      "_________________________________________________________________\n",
      "globalaverage2d1 (GlobalAver (None, 2048)              0         \n",
      "_________________________________________________________________\n",
      "dense1024 (Dense)            (None, 1024)              2098176   \n",
      "_________________________________________________________________\n",
      "classifier (Dense)           (None, 10)                10250     \n",
      "=================================================================\n",
      "Total params: 23,911,210\n",
      "Trainable params: 2,108,426\n",
      "Non-trainable params: 21,802,784\n",
      "_________________________________________________________________\n",
      "None\n"
     ]
    }
   ],
   "source": [
    "def build_model(input_shape, num_classes):\n",
    "    base_model = tf.keras.applications.inception_v3.InceptionV3(\n",
    "        weights='imagenet',\n",
    "        include_top=False,\n",
    "        input_shape=input_shape)\n",
    "\n",
    "    # Freeze base model\n",
    "    base_model.trainable = False\n",
    "\n",
    "    # Build model\n",
    "    model = tf.keras.Sequential([\n",
    "        base_model,\n",
    "        tf.keras.layers.GlobalAveragePooling2D(name='globalaverage2d1'),\n",
    "        tf.keras.layers.Dense(1024, activation='relu', name='dense1024'),\n",
    "        tf.keras.layers.Dense(units=num_classes, activation='softmax', name='classifier')\n",
    "    ])\n",
    "\n",
    "    return model\n",
    "\n",
    "model = build_model(INPUT_SHAPE, num_classes)\n",
    "print(model.summary())"
   ]
  },
  {
   "cell_type": "markdown",
   "id": "adjusted-credits",
   "metadata": {},
   "source": [
    "## Restore checkpoints"
   ]
  },
  {
   "cell_type": "code",
   "execution_count": 5,
   "id": "instrumental-mother",
   "metadata": {},
   "outputs": [],
   "source": [
    "if os.path.exists(CHECKPOINT):\n",
    "    try:\n",
    "        _ = model.load_weights(CHECKPOINT, by_name=False)\n",
    "    except:\n",
    "        pass"
   ]
  },
  {
   "cell_type": "markdown",
   "id": "guilty-vertical",
   "metadata": {},
   "source": [
    "## Loss & Optimizer"
   ]
  },
  {
   "cell_type": "code",
   "execution_count": 6,
   "id": "coastal-disney",
   "metadata": {},
   "outputs": [],
   "source": [
    "model.compile(loss=tf.keras.losses.CategoricalCrossentropy(),\n",
    "              optimizer=tf.keras.optimizers.RMSprop(lr=LEARNING_RATE),\n",
    "              metrics=[\"acc\"])"
   ]
  },
  {
   "cell_type": "markdown",
   "id": "affiliated-anderson",
   "metadata": {},
   "source": [
    "## Callbacks"
   ]
  },
  {
   "cell_type": "code",
   "execution_count": 7,
   "id": "digital-index",
   "metadata": {},
   "outputs": [],
   "source": [
    "callback_checkpoint = tf.keras.callbacks.ModelCheckpoint(\n",
    "    filepath=CHECKPOINT,\n",
    "    verbose=0,\n",
    "    save_weights_only=True\n",
    ")\n",
    "callback_tensorboard = tf.keras.callbacks.TensorBoard(\n",
    "    log_dir=TENSORBOARD,\n",
    "    write_images=True\n",
    ")\n",
    "\n",
    "callbacks = [callback_checkpoint, callback_tensorboard]"
   ]
  },
  {
   "cell_type": "markdown",
   "id": "lined-thesis",
   "metadata": {},
   "source": [
    "## Training"
   ]
  },
  {
   "cell_type": "code",
   "execution_count": 8,
   "id": "later-manner",
   "metadata": {},
   "outputs": [
    {
     "name": "stdout",
     "output_type": "stream",
     "text": [
      "Epoch 1/10\n",
      " 2/37 [>.............................] - ETA: 2:15 - loss: 0.1352 - acc: 0.9688 "
     ]
    },
    {
     "name": "stderr",
     "output_type": "stream",
     "text": [
      "/home/joseph/anaconda3/envs/tf/lib/python3.8/site-packages/PIL/TiffImagePlugin.py:793: UserWarning: Corrupt EXIF data.  Expecting to read 4 bytes but only got 0. \n",
      "  warnings.warn(str(msg))\n"
     ]
    },
    {
     "name": "stdout",
     "output_type": "stream",
     "text": [
      "37/37 [==============================] - 206s 5s/step - loss: 0.1082 - acc: 0.9664 - val_loss: 1.8389 - val_acc: 0.5625\n",
      "Epoch 2/10\n",
      "37/37 [==============================] - 153s 4s/step - loss: 0.0443 - acc: 0.9887 - val_loss: 1.8090 - val_acc: 0.5764\n",
      "Epoch 3/10\n",
      "37/37 [==============================] - 152s 4s/step - loss: 0.0413 - acc: 0.9902 - val_loss: 1.8643 - val_acc: 0.5625\n",
      "Epoch 4/10\n",
      "37/37 [==============================] - 159s 4s/step - loss: 0.0289 - acc: 0.9941 - val_loss: 1.8808 - val_acc: 0.5694\n",
      "Epoch 5/10\n",
      "37/37 [==============================] - 152s 4s/step - loss: 0.0713 - acc: 0.9880 - val_loss: 1.8926 - val_acc: 0.5486\n",
      "Epoch 6/10\n",
      "37/37 [==============================] - 151s 4s/step - loss: 0.0407 - acc: 0.9855 - val_loss: 2.6645 - val_acc: 0.4792\n",
      "Epoch 7/10\n",
      "37/37 [==============================] - 152s 4s/step - loss: 0.0620 - acc: 0.9891 - val_loss: 2.0194 - val_acc: 0.5694\n",
      "Epoch 8/10\n",
      "37/37 [==============================] - 151s 4s/step - loss: 0.0218 - acc: 0.9950 - val_loss: 1.9140 - val_acc: 0.5556\n",
      "Epoch 9/10\n",
      "37/37 [==============================] - 151s 4s/step - loss: 0.0036 - acc: 0.9990 - val_loss: 2.5183 - val_acc: 0.5278\n",
      "Epoch 10/10\n",
      "37/37 [==============================] - 150s 4s/step - loss: 0.0224 - acc: 0.9910 - val_loss: 1.9619 - val_acc: 0.5556\n"
     ]
    }
   ],
   "source": [
    "history = model.fit(\n",
    "    train_set,\n",
    "    epochs=EPOCHS,\n",
    "    validation_data=val_set,\n",
    "    callbacks=callbacks\n",
    ")"
   ]
  },
  {
   "cell_type": "code",
   "execution_count": 9,
   "id": "dominican-gasoline",
   "metadata": {},
   "outputs": [
    {
     "data": {
      "image/png": "[encoded data removed]",
      "text/plain": [
       "<Figure size 576x288 with 1 Axes>"
      ]
     },
     "metadata": {
      "needs_background": "light"
     },
     "output_type": "display_data"
    },
    {
     "data": {
      "image/png": "[encoded data removed]",
      "text/plain": [
       "<Figure size 576x288 with 1 Axes>"
      ]
     },
     "metadata": {
      "needs_background": "light"
     },
     "output_type": "display_data"
    }
   ],
   "source": [
    "acc = history.history['acc']\n",
    "loss = history.history['loss']\n",
    "val_acc = history.history['val_acc']\n",
    "val_loss = history.history['val_loss']\n",
    "epochs = range(1, len(acc) + 1)\n",
    "\n",
    "plt.figure(figsize=(8, 4))\n",
    "plt.plot(epochs, acc, 'bo', label='Training Accuracy')\n",
    "plt.plot(epochs, val_acc, 'b', label='Validation Accuracy')\n",
    "plt.xlabel('Epoch')\n",
    "plt.ylabel('Accuracy')\n",
    "plt.title('Training and validation accuracy')\n",
    "plt.legend(loc='best')\n",
    "plt.show()\n",
    "\n",
    "plt.figure(figsize=(8, 4))\n",
    "plt.plot(epochs, loss, 'bo', label='Training Loss')\n",
    "plt.plot(epochs, val_loss, 'b', label='Validation Loss')\n",
    "plt.xlabel('Epoch')\n",
    "plt.ylabel('Loss')\n",
    "plt.title('Training and validation loss')\n",
    "plt.legend(loc='best')\n",
    "plt.show()"
   ]
  },
  {
   "cell_type": "markdown",
   "id": "inside-price",
   "metadata": {},
   "source": [
    "## Save model"
   ]
  },
  {
   "cell_type": "code",
   "execution_count": 10,
   "id": "civil-telephone",
   "metadata": {},
   "outputs": [],
   "source": [
    "model.save(SAVE_MODEL_PATH)"
   ]
  }
 ],
 "metadata": {
  "kernelspec": {
   "display_name": "Python 3",
   "language": "python",
   "name": "python3"
  },
  "language_info": {
   "codemirror_mode": {
    "name": "ipython",
    "version": 3
   },
   "file_extension": ".py",
   "mimetype": "text/x-python",
   "name": "python",
   "nbconvert_exporter": "python",
   "pygments_lexer": "ipython3",
   "version": "3.8.8"
  }
 },
 "nbformat": 4,
 "nbformat_minor": 5
}
