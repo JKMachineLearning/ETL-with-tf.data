{
 "cells": [
  {
   "cell_type": "markdown",
   "id": "novel-country",
   "metadata": {},
   "source": [
    "# ETL with tf.data"
   ]
  },
  {
   "cell_type": "markdown",
   "id": "juvenile-shanghai",
   "metadata": {},
   "source": [
    "## Librairies"
   ]
  },
  {
   "cell_type": "code",
   "execution_count": 1,
   "id": "manual-drinking",
   "metadata": {},
   "outputs": [
    {
     "data": {
      "text/plain": [
       "'2.4.1'"
      ]
     },
     "execution_count": 1,
     "metadata": {},
     "output_type": "execute_result"
    }
   ],
   "source": [
    "import os\n",
    "\n",
    "import matplotlib.pyplot as plt\n",
    "import tensorflow as tf\n",
    "tf.__version__"
   ]
  },
  {
   "cell_type": "markdown",
   "id": "accepted-clark",
   "metadata": {},
   "source": [
    "## Paths & Config"
   ]
  },
  {
   "cell_type": "code",
   "execution_count": 2,
   "id": "essential-athletics",
   "metadata": {},
   "outputs": [],
   "source": [
    "DATA_DIR = \"/home/joseph/idermatoDeepLearning/data/raw_Data/images_medicales\"\n",
    "CHECKPOINT = \"models/classifier-weights.hdf5\"\n",
    "SAVE_MODEL_PATH = \"models/classifier.h5\"\n",
    "TENSORBOARD = \"logs\"\n",
    "\n",
    "VALIDATION_SPLIT = 0.2\n",
    "\n",
    "WIDTH = 150\n",
    "HEIGHT = 150\n",
    "NUM_CHANNELS = 3\n",
    "INPUT_SHAPE = (WIDTH, HEIGHT, NUM_CHANNELS)\n",
    "\n",
    "LEARNING_RATE = 1e-4\n",
    "\n",
    "EPOCHS = 30\n",
    "BATCH_SIZE = 16"
   ]
  },
  {
   "cell_type": "markdown",
   "id": "educational-consumer",
   "metadata": {},
   "source": [
    "## Data"
   ]
  },
  {
   "cell_type": "code",
   "execution_count": 3,
   "id": "independent-flash",
   "metadata": {},
   "outputs": [
    {
     "name": "stdout",
     "output_type": "stream",
     "text": [
      "Found 592 images belonging to 10 classes.\n",
      "Found 144 images belonging to 10 classes.\n",
      "Total classes: 10\n"
     ]
    }
   ],
   "source": [
    "generator = tf.keras.preprocessing.image.ImageDataGenerator(\n",
    "    rescale=1./255,\n",
    "    validation_split=VALIDATION_SPLIT\n",
    ")\n",
    "train_set = generator.flow_from_directory(\n",
    "    DATA_DIR,\n",
    "    target_size=(WIDTH, HEIGHT),\n",
    "    batch_size=BATCH_SIZE,\n",
    "    class_mode='categorical',\n",
    "    subset='training',\n",
    "    shuffle=True\n",
    ")\n",
    "val_set = generator.flow_from_directory(\n",
    "    DATA_DIR,\n",
    "    target_size=(WIDTH, HEIGHT),\n",
    "    batch_size=BATCH_SIZE,\n",
    "    class_mode='categorical',\n",
    "    subset='validation'\n",
    ")\n",
    "num_classes = len(train_set.class_indices)\n",
    "print(\"Total classes:\", num_classes)"
   ]
  },
  {
   "cell_type": "code",
   "execution_count": 4,
   "id": "swiss-philip",
   "metadata": {},
   "outputs": [],
   "source": [
    "train_ds = ds = tf.data.Dataset.from_generator(\n",
    "    lambda: train_set, \n",
    "    output_types=(tf.float32, tf.float32),\n",
    "    output_shapes=(\n",
    "        [BATCH_SIZE, WIDTH, HEIGHT,NUM_CHANNELS],\n",
    "        [BATCH_SIZE, num_classes]\n",
    "    )\n",
    ")\n",
    "val_ds = tf.data.Dataset.from_generator(\n",
    "    lambda: val_set,\n",
    "    output_types=(tf.float32, tf.float32),\n",
    "    output_shapes=(\n",
    "        [BATCH_SIZE, WIDTH, HEIGHT,NUM_CHANNELS],\n",
    "        [BATCH_SIZE, num_classes]\n",
    "    )\n",
    ")"
   ]
  },
  {
   "cell_type": "markdown",
   "id": "micro-disclaimer",
   "metadata": {},
   "source": [
    "## Model Transfer Learning"
   ]
  },
  {
   "cell_type": "code",
   "execution_count": 5,
   "id": "helpful-mediterranean",
   "metadata": {},
   "outputs": [
    {
     "name": "stderr",
     "output_type": "stream",
     "text": [
      "/home/joseph/anaconda3/envs/tf/lib/python3.8/site-packages/tensorflow/python/keras/backend.py:434: UserWarning: `tf.keras.backend.set_learning_phase` is deprecated and will be removed after 2020-10-11. To update it, simply pass a True/False value to the `training` argument of the `__call__` method of your layer or model.\n",
      "  warnings.warn('`tf.keras.backend.set_learning_phase` is deprecated and '\n"
     ]
    },
    {
     "name": "stdout",
     "output_type": "stream",
     "text": [
      "Model: \"sequential\"\n",
      "_________________________________________________________________\n",
      "Layer (type)                 Output Shape              Param #   \n",
      "=================================================================\n",
      "inception_v3 (Functional)    (None, 3, 3, 2048)        21802784  \n",
      "_________________________________________________________________\n",
      "globalaverage2d1 (GlobalAver (None, 2048)              0         \n",
      "_________________________________________________________________\n",
      "dense1024 (Dense)            (None, 1024)              2098176   \n",
      "_________________________________________________________________\n",
      "classifier (Dense)           (None, 10)                10250     \n",
      "=================================================================\n",
      "Total params: 23,911,210\n",
      "Trainable params: 13,223,306\n",
      "Non-trainable params: 10,687,904\n",
      "_________________________________________________________________\n",
      "None\n"
     ]
    }
   ],
   "source": [
    "def build_model(input_shape, num_classes):\n",
    "    tf.keras.backend.set_learning_phase(0) # fix bug during inference\n",
    "    base_model = tf.keras.applications.inception_v3.InceptionV3(\n",
    "        weights='imagenet',\n",
    "        include_top=False,\n",
    "        input_shape=input_shape)\n",
    "\n",
    "    # Freeze high layers\n",
    "    for layer in base_model.layers[:249]:\n",
    "        layer.trainable = False\n",
    "    for layer in base_model.layers[249:]:\n",
    "        layer.trainable = True\n",
    "\n",
    "    # Build model\n",
    "    model = tf.keras.Sequential([\n",
    "        base_model,\n",
    "        tf.keras.layers.GlobalAveragePooling2D(name='globalaverage2d1'),\n",
    "        tf.keras.layers.Dense(1024, activation='relu', name='dense1024'),\n",
    "        tf.keras.layers.Dense(units=num_classes, activation='softmax', name='classifier')\n",
    "    ])\n",
    "\n",
    "    return model\n",
    "\n",
    "model = build_model(INPUT_SHAPE, num_classes)\n",
    "print(model.summary())"
   ]
  },
  {
   "cell_type": "markdown",
   "id": "noticed-motor",
   "metadata": {},
   "source": [
    "## Restore checkpoints"
   ]
  },
  {
   "cell_type": "code",
   "execution_count": 6,
   "id": "pursuant-pencil",
   "metadata": {},
   "outputs": [],
   "source": [
    "if os.path.exists(CHECKPOINT):\n",
    "    _ = model.load_weights(CHECKPOINT, by_name=False)"
   ]
  },
  {
   "cell_type": "markdown",
   "id": "corresponding-testament",
   "metadata": {},
   "source": [
    "### Loss & Optimizer"
   ]
  },
  {
   "cell_type": "code",
   "execution_count": 7,
   "id": "intermediate-float",
   "metadata": {},
   "outputs": [],
   "source": [
    "model.compile(loss=tf.keras.losses.CategoricalCrossentropy(),\n",
    "              optimizer=tf.keras.optimizers.RMSprop(lr=LEARNING_RATE),\n",
    "              metrics=[\"acc\"])"
   ]
  },
  {
   "cell_type": "markdown",
   "id": "existing-employee",
   "metadata": {},
   "source": [
    "### Callbacks"
   ]
  },
  {
   "cell_type": "code",
   "execution_count": 8,
   "id": "brown-survival",
   "metadata": {},
   "outputs": [],
   "source": [
    "callback_checkpoint = tf.keras.callbacks.ModelCheckpoint(\n",
    "    filepath=CHECKPOINT,\n",
    "    verbose=0,\n",
    "    save_weights_only=True\n",
    ")\n",
    "callback_tensorboard = tf.keras.callbacks.TensorBoard(\n",
    "    log_dir=TENSORBOARD,\n",
    "    write_images=True\n",
    ")\n",
    "\n",
    "callbacks = [callback_checkpoint, callback_tensorboard]"
   ]
  },
  {
   "cell_type": "markdown",
   "id": "overall-labor",
   "metadata": {},
   "source": [
    "## Training"
   ]
  },
  {
   "cell_type": "code",
   "execution_count": null,
   "id": "editorial-silicon",
   "metadata": {},
   "outputs": [
    {
     "name": "stdout",
     "output_type": "stream",
     "text": [
      "Epoch 1/30\n",
      " 7/37 [====>.........................] - ETA: 3:30 - loss: 2.3735 - acc: 0.1942"
     ]
    },
    {
     "name": "stderr",
     "output_type": "stream",
     "text": [
      "/home/joseph/anaconda3/envs/tf/lib/python3.8/site-packages/PIL/TiffImagePlugin.py:793: UserWarning: Corrupt EXIF data.  Expecting to read 4 bytes but only got 0. \n",
      "  warnings.warn(str(msg))\n"
     ]
    },
    {
     "name": "stdout",
     "output_type": "stream",
     "text": [
      "11/37 [=======>......................] - ETA: 2:58 - loss: 2.2900 - acc: 0.2186"
     ]
    }
   ],
   "source": [
    "steps_per_epoch = train_set.samples // BATCH_SIZE\n",
    "history = model.fit(\n",
    "    train_ds,\n",
    "    epochs=EPOCHS,\n",
    "    steps_per_epoch=steps_per_epoch,\n",
    "    validation_data=val_ds,\n",
    "    callbacks=callbacks\n",
    ")"
   ]
  },
  {
   "cell_type": "code",
   "execution_count": null,
   "id": "protective-meaning",
   "metadata": {},
   "outputs": [],
   "source": [
    "acc = history.history['acc']\n",
    "loss = history.history['loss']\n",
    "val_acc = history.history['val_acc']\n",
    "val_loss = history.history['val_loss']\n",
    "epochs = range(1, len(acc) + 1)\n",
    "\n",
    "plt.figure(figsize=(8, 4))\n",
    "plt.plot(epochs, acc, 'bo', label='Training Accuracy')\n",
    "plt.plot(epochs, val_acc, 'b', label='Validation Accuracy')\n",
    "plt.xlabel('Epoch')\n",
    "plt.ylabel('Accuracy')\n",
    "plt.title('Training and validation accuracy')\n",
    "plt.legend(loc='best')\n",
    "plt.show()\n",
    "\n",
    "plt.figure(figsize=(8, 4))\n",
    "plt.plot(epochs, loss, 'bo', label='Training Loss')\n",
    "plt.plot(epochs, val_loss, 'b', label='Validation Loss')\n",
    "plt.xlabel('Epoch')\n",
    "plt.ylabel('Loss')\n",
    "plt.title('Training and validation loss')\n",
    "plt.legend(loc='best')\n",
    "plt.show()"
   ]
  },
  {
   "cell_type": "markdown",
   "id": "august-greene",
   "metadata": {},
   "source": [
    "## Save model"
   ]
  },
  {
   "cell_type": "code",
   "execution_count": null,
   "id": "available-pastor",
   "metadata": {},
   "outputs": [],
   "source": [
    "model.save(SAVE_MODEL_PATH)"
   ]
  },
  {
   "cell_type": "markdown",
   "id": "junior-partnership",
   "metadata": {},
   "source": [
    "# Références\n",
    "* https://github.com/damienpontifex/mobilenet-classifier-transfer/blob/master/binary_classifier_train.py"
   ]
  }
 ],
 "metadata": {
  "kernelspec": {
   "display_name": "Python 3",
   "language": "python",
   "name": "python3"
  },
  "language_info": {
   "codemirror_mode": {
    "name": "ipython",
    "version": 3
   },
   "file_extension": ".py",
   "mimetype": "text/x-python",
   "name": "python",
   "nbconvert_exporter": "python",
   "pygments_lexer": "ipython3",
   "version": "3.8.8"
  }
 },
 "nbformat": 4,
 "nbformat_minor": 5
}
