{
 "cells": [
  {
   "cell_type": "markdown",
   "id": "outer-chile",
   "metadata": {},
   "source": [
    "# ETL with tf & Keras"
   ]
  },
  {
   "cell_type": "markdown",
   "id": "demonstrated-shame",
   "metadata": {},
   "source": [
    "## Librairies"
   ]
  },
  {
   "cell_type": "code",
   "execution_count": 1,
   "id": "compliant-queens",
   "metadata": {},
   "outputs": [
    {
     "data": {
      "text/plain": [
       "'2.4.1'"
      ]
     },
     "execution_count": 1,
     "metadata": {},
     "output_type": "execute_result"
    }
   ],
   "source": [
    "import os\n",
    "import math\n",
    "\n",
    "import glob\n",
    "import numpy as np\n",
    "import pandas as pd\n",
    "from PIL import Image\n",
    "import matplotlib.pyplot as plt\n",
    "from sklearn.preprocessing import LabelEncoder, OneHotEncoder\n",
    "from sklearn.model_selection import train_test_split\n",
    "import tensorflow as tf\n",
    "tf.__version__"
   ]
  },
  {
   "cell_type": "markdown",
   "id": "bizarre-bible",
   "metadata": {},
   "source": [
    "## Paths & Config"
   ]
  },
  {
   "cell_type": "code",
   "execution_count": 2,
   "id": "metropolitan-lewis",
   "metadata": {},
   "outputs": [],
   "source": [
    "DATA_DIR = \"/home/joseph/idermatoDeepLearning/data/raw_Data/images_medicales\"\n",
    "CHECKPOINT = \"models/classifier-weights.hdf5\"\n",
    "SAVE_MODEL_PATH = \"models/classifier.h5\"\n",
    "TENSORBOARD = \"logs\"\n",
    "\n",
    "VALIDATION_SPLIT = 0.2\n",
    "\n",
    "WIDTH = 150\n",
    "HEIGHT = 150\n",
    "NUM_CHANNELS = 3\n",
    "INPUT_SHAPE = (WIDTH, HEIGHT, NUM_CHANNELS)\n",
    "\n",
    "LEARNING_RATE = 1e-4\n",
    "\n",
    "EPOCHS = 10\n",
    "BATCH_SIZE = 16"
   ]
  },
  {
   "cell_type": "markdown",
   "id": "hundred-german",
   "metadata": {},
   "source": [
    "## Data"
   ]
  },
  {
   "cell_type": "code",
   "execution_count": 3,
   "id": "blocked-warning",
   "metadata": {},
   "outputs": [
    {
     "name": "stdout",
     "output_type": "stream",
     "text": [
      "Total images: 736\n"
     ]
    }
   ],
   "source": [
    "# listing all images paths\n",
    "images = glob.glob(DATA_DIR+'/*/*.*')\n",
    "np.random.shuffle(images)\n",
    "n_samples = len(images)\n",
    "print(\"Total images:\", n_samples)"
   ]
  },
  {
   "cell_type": "code",
   "execution_count": 4,
   "id": "administrative-importance",
   "metadata": {},
   "outputs": [
    {
     "data": {
      "text/plain": [
       "736"
      ]
     },
     "execution_count": 4,
     "metadata": {},
     "output_type": "execute_result"
    }
   ],
   "source": [
    "# associate label to each image\n",
    "labels = [path.split('/')[-2] for path in images]\n",
    "len(labels)"
   ]
  },
  {
   "cell_type": "markdown",
   "id": "developing-china",
   "metadata": {},
   "source": [
    "### Encode label into one hot"
   ]
  },
  {
   "cell_type": "code",
   "execution_count": 5,
   "id": "acting-distribution",
   "metadata": {},
   "outputs": [
    {
     "data": {
      "text/plain": [
       "(736, 10)"
      ]
     },
     "execution_count": 5,
     "metadata": {},
     "output_type": "execute_result"
    }
   ],
   "source": [
    "# encode labels into numeric values\n",
    "label_encoder = LabelEncoder()\n",
    "label_encoder.fit(labels)\n",
    "labels = label_encoder.transform(labels).reshape(-1, 1)\n",
    "\n",
    "# encode labels into onehot array\n",
    "one_hot_encoder = OneHotEncoder()\n",
    "one_hot_encoder.fit(labels)\n",
    "labels = one_hot_encoder.transform(labels).toarray()\n",
    "labels.shape"
   ]
  },
  {
   "cell_type": "code",
   "execution_count": 6,
   "id": "chief-bibliography",
   "metadata": {},
   "outputs": [
    {
     "name": "stdout",
     "output_type": "stream",
     "text": [
      "Total classes: 10\n"
     ]
    }
   ],
   "source": [
    "num_classes = len(label_encoder.classes_)\n",
    "print(\"Total classes:\", num_classes)"
   ]
  },
  {
   "cell_type": "markdown",
   "id": "least-indonesian",
   "metadata": {},
   "source": [
    "### Split train, val"
   ]
  },
  {
   "cell_type": "code",
   "execution_count": 7,
   "id": "separate-cedar",
   "metadata": {},
   "outputs": [],
   "source": [
    "train_images, val_images, train_labels, val_labels = train_test_split(images,\n",
    "                                                                      labels,\n",
    "                                                                      test_size=VALIDATION_SPLIT,\n",
    "                                                                      stratify=labels)"
   ]
  },
  {
   "cell_type": "markdown",
   "id": "adjustable-stranger",
   "metadata": {},
   "source": [
    "### Build Data Generator"
   ]
  },
  {
   "cell_type": "code",
   "execution_count": 8,
   "id": "imperial-forestry",
   "metadata": {},
   "outputs": [],
   "source": [
    "def load_image(path, size):\n",
    "    \"\"\"custom function to load image\"\"\"\n",
    "    image = Image.open(path)\n",
    "    image = image.convert('RGB')\n",
    "    image = image.resize(size)\n",
    "    image = np.array(image)*(1./255)\n",
    "\n",
    "    return image"
   ]
  },
  {
   "cell_type": "code",
   "execution_count": 9,
   "id": "nasty-northern",
   "metadata": {},
   "outputs": [],
   "source": [
    "class DataGenerator(tf.keras.utils.Sequence):\n",
    "    \"\"\"Custom generator\"\"\"\n",
    "    def __init__(self, x_set, y_set, batch_size=32, target_size=(150, 150)):\n",
    "        self.x, self.y = x_set, y_set\n",
    "        self.batch_size = batch_size\n",
    "        self.target_size = target_size\n",
    "\n",
    "    def __len__(self):\n",
    "        return math.ceil(len(self.x) / self.batch_size)\n",
    "\n",
    "    def __getitem__(self, idx):\n",
    "        batch_x = self.x[idx * self.batch_size:(idx + 1) *\n",
    "        self.batch_size]\n",
    "        batch_y = self.y[idx * self.batch_size:(idx + 1) *\n",
    "        self.batch_size]\n",
    "\n",
    "        return np.array([\n",
    "            load_image(file_name, (WIDTH, HEIGHT))\n",
    "               for file_name in batch_x]), np.array(batch_y)"
   ]
  },
  {
   "cell_type": "code",
   "execution_count": 10,
   "id": "contrary-desire",
   "metadata": {},
   "outputs": [],
   "source": [
    "train_ds = DataGenerator(train_images, train_labels, batch_size=BATCH_SIZE)\n",
    "val_ds = DataGenerator(val_images, val_labels, batch_size=BATCH_SIZE)"
   ]
  },
  {
   "cell_type": "markdown",
   "id": "directed-european",
   "metadata": {},
   "source": [
    "## Model Transfer Learning"
   ]
  },
  {
   "cell_type": "code",
   "execution_count": 11,
   "id": "complete-vermont",
   "metadata": {},
   "outputs": [
    {
     "name": "stdout",
     "output_type": "stream",
     "text": [
      "Model: \"sequential\"\n",
      "_________________________________________________________________\n",
      "Layer (type)                 Output Shape              Param #   \n",
      "=================================================================\n",
      "inception_v3 (Functional)    (None, 3, 3, 2048)        21802784  \n",
      "_________________________________________________________________\n",
      "globalaverage2d1 (GlobalAver (None, 2048)              0         \n",
      "_________________________________________________________________\n",
      "dense1024 (Dense)            (None, 1024)              2098176   \n",
      "_________________________________________________________________\n",
      "classifier (Dense)           (None, 10)                10250     \n",
      "=================================================================\n",
      "Total params: 23,911,210\n",
      "Trainable params: 2,108,426\n",
      "Non-trainable params: 21,802,784\n",
      "_________________________________________________________________\n",
      "None\n"
     ]
    }
   ],
   "source": [
    "def build_model(input_shape, num_classes):\n",
    "    base_model = tf.keras.applications.inception_v3.InceptionV3(\n",
    "        weights='imagenet',\n",
    "        include_top=False,\n",
    "        input_shape=input_shape)\n",
    "\n",
    "    # Freeze base model\n",
    "    base_model.trainable = False\n",
    "\n",
    "    # Build model\n",
    "    model = tf.keras.Sequential([\n",
    "        base_model,\n",
    "        tf.keras.layers.GlobalAveragePooling2D(name='globalaverage2d1'),\n",
    "        tf.keras.layers.Dense(1024, activation='relu', name='dense1024'),\n",
    "        tf.keras.layers.Dense(units=num_classes, activation='softmax', name='classifier')\n",
    "    ])\n",
    "\n",
    "    return model\n",
    "\n",
    "model = build_model(INPUT_SHAPE, num_classes)\n",
    "print(model.summary())"
   ]
  },
  {
   "cell_type": "markdown",
   "id": "regional-selling",
   "metadata": {},
   "source": [
    "## Restore checkpoints"
   ]
  },
  {
   "cell_type": "code",
   "execution_count": 12,
   "id": "color-gasoline",
   "metadata": {},
   "outputs": [],
   "source": [
    "if os.path.exists(CHECKPOINT):\n",
    "    try:\n",
    "        _ = model.load_weights(CHECKPOINT, by_name=False)\n",
    "    except:\n",
    "        pass"
   ]
  },
  {
   "cell_type": "markdown",
   "id": "mechanical-cyprus",
   "metadata": {},
   "source": [
    "## Loss & Optimizer"
   ]
  },
  {
   "cell_type": "code",
   "execution_count": 13,
   "id": "understood-lemon",
   "metadata": {},
   "outputs": [],
   "source": [
    "model.compile(loss=tf.keras.losses.CategoricalCrossentropy(),\n",
    "              optimizer=tf.keras.optimizers.RMSprop(lr=LEARNING_RATE),\n",
    "              metrics=[\"acc\"])"
   ]
  },
  {
   "cell_type": "markdown",
   "id": "incorporate-price",
   "metadata": {},
   "source": [
    "## Callbacks"
   ]
  },
  {
   "cell_type": "code",
   "execution_count": 14,
   "id": "exempt-sword",
   "metadata": {},
   "outputs": [],
   "source": [
    "callback_checkpoint = tf.keras.callbacks.ModelCheckpoint(\n",
    "    filepath=CHECKPOINT,\n",
    "    verbose=0,\n",
    "    save_weights_only=True\n",
    ")\n",
    "callback_tensorboard = tf.keras.callbacks.TensorBoard(\n",
    "    log_dir=TENSORBOARD,\n",
    "    write_images=True\n",
    ")\n",
    "\n",
    "callbacks = [callback_checkpoint, callback_tensorboard]"
   ]
  },
  {
   "cell_type": "markdown",
   "id": "jewish-tobacco",
   "metadata": {},
   "source": [
    "## Training"
   ]
  },
  {
   "cell_type": "code",
   "execution_count": 15,
   "id": "verified-slovak",
   "metadata": {},
   "outputs": [
    {
     "name": "stdout",
     "output_type": "stream",
     "text": [
      "Epoch 1/10\n",
      "26/37 [====================>.........] - ETA: 1:16 - loss: 0.4135 - acc: 0.8936"
     ]
    },
    {
     "name": "stderr",
     "output_type": "stream",
     "text": [
      "/home/joseph/anaconda3/envs/tf/lib/python3.8/site-packages/PIL/TiffImagePlugin.py:793: UserWarning: Corrupt EXIF data.  Expecting to read 4 bytes but only got 0. \n",
      "  warnings.warn(str(msg))\n"
     ]
    },
    {
     "name": "stdout",
     "output_type": "stream",
     "text": [
      "37/37 [==============================] - 387s 9s/step - loss: 0.3988 - acc: 0.8985 - val_loss: 0.2698 - val_acc: 0.9189\n",
      "Epoch 2/10\n",
      "37/37 [==============================] - 312s 8s/step - loss: 0.1128 - acc: 0.9650 - val_loss: 0.5343 - val_acc: 0.8243\n",
      "Epoch 3/10\n",
      "37/37 [==============================] - 311s 8s/step - loss: 0.0874 - acc: 0.9858 - val_loss: 0.3039 - val_acc: 0.9054\n",
      "Epoch 4/10\n",
      "37/37 [==============================] - 313s 8s/step - loss: 0.0777 - acc: 0.9782 - val_loss: 0.2301 - val_acc: 0.9257\n",
      "Epoch 5/10\n",
      "37/37 [==============================] - 315s 9s/step - loss: 0.0313 - acc: 0.9960 - val_loss: 0.4549 - val_acc: 0.8649\n",
      "Epoch 6/10\n",
      "37/37 [==============================] - 310s 8s/step - loss: 0.0781 - acc: 0.9764 - val_loss: 0.3929 - val_acc: 0.8716\n",
      "Epoch 7/10\n",
      "37/37 [==============================] - 312s 8s/step - loss: 0.0479 - acc: 0.9875 - val_loss: 0.2775 - val_acc: 0.9189\n",
      "Epoch 8/10\n",
      "37/37 [==============================] - 314s 8s/step - loss: 0.0355 - acc: 0.9926 - val_loss: 0.3687 - val_acc: 0.8919\n",
      "Epoch 9/10\n",
      "37/37 [==============================] - 230s 6s/step - loss: 0.0342 - acc: 0.9900 - val_loss: 0.3415 - val_acc: 0.9054\n",
      "Epoch 10/10\n",
      "37/37 [==============================] - 167s 5s/step - loss: 0.0526 - acc: 0.9878 - val_loss: 0.2364 - val_acc: 0.9392\n"
     ]
    }
   ],
   "source": [
    "history = model.fit(\n",
    "    train_ds,\n",
    "    epochs=EPOCHS,\n",
    "    validation_data=val_ds,\n",
    "    callbacks=callbacks\n",
    ")"
   ]
  },
  {
   "cell_type": "code",
   "execution_count": 16,
   "id": "packed-philip",
   "metadata": {},
   "outputs": [
    {
     "data": {
      "image/png": "[encoded data removed]",
      "text/plain": [
       "<Figure size 576x288 with 1 Axes>"
      ]
     },
     "metadata": {
      "needs_background": "light"
     },
     "output_type": "display_data"
    },
    {
     "data": {
      "image/png": "[encoded data removed]",
      "text/plain": [
       "<Figure size 576x288 with 1 Axes>"
      ]
     },
     "metadata": {
      "needs_background": "light"
     },
     "output_type": "display_data"
    }
   ],
   "source": [
    "acc = history.history['acc']\n",
    "loss = history.history['loss']\n",
    "val_acc = history.history['val_acc']\n",
    "val_loss = history.history['val_loss']\n",
    "epochs = range(1, len(acc) + 1)\n",
    "\n",
    "plt.figure(figsize=(8, 4))\n",
    "plt.plot(epochs, acc, 'bo', label='Training Accuracy')\n",
    "plt.plot(epochs, val_acc, 'b', label='Validation Accuracy')\n",
    "plt.xlabel('Epoch')\n",
    "plt.ylabel('Accuracy')\n",
    "plt.title('Training and validation accuracy')\n",
    "plt.legend(loc='best')\n",
    "plt.show()\n",
    "\n",
    "plt.figure(figsize=(8, 4))\n",
    "plt.plot(epochs, loss, 'bo', label='Training Loss')\n",
    "plt.plot(epochs, val_loss, 'b', label='Validation Loss')\n",
    "plt.xlabel('Epoch')\n",
    "plt.ylabel('Loss')\n",
    "plt.title('Training and validation loss')\n",
    "plt.legend(loc='best')\n",
    "plt.show()"
   ]
  },
  {
   "cell_type": "markdown",
   "id": "administrative-longer",
   "metadata": {},
   "source": [
    "## Save model"
   ]
  },
  {
   "cell_type": "code",
   "execution_count": 17,
   "id": "eight-finger",
   "metadata": {},
   "outputs": [],
   "source": [
    "model.save(SAVE_MODEL_PATH)"
   ]
  }
 ],
 "metadata": {
  "kernelspec": {
   "display_name": "Python 3",
   "language": "python",
   "name": "python3"
  },
  "language_info": {
   "codemirror_mode": {
    "name": "ipython",
    "version": 3
   },
   "file_extension": ".py",
   "mimetype": "text/x-python",
   "name": "python",
   "nbconvert_exporter": "python",
   "pygments_lexer": "ipython3",
   "version": "3.8.8"
  }
 },
 "nbformat": 4,
 "nbformat_minor": 5
}
