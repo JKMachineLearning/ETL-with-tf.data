{
 "cells": [
  {
   "cell_type": "markdown",
   "id": "stopped-entrepreneur",
   "metadata": {},
   "source": [
    "# ETL with tf.data"
   ]
  },
  {
   "cell_type": "markdown",
   "id": "alleged-celtic",
   "metadata": {},
   "source": [
    "## Librairies"
   ]
  },
  {
   "cell_type": "code",
   "execution_count": 14,
   "id": "referenced-amateur",
   "metadata": {},
   "outputs": [
    {
     "data": {
      "text/plain": [
       "'2.4.1'"
      ]
     },
     "execution_count": 14,
     "metadata": {},
     "output_type": "execute_result"
    }
   ],
   "source": [
    "import os\n",
    "\n",
    "import glob\n",
    "import numpy as np\n",
    "import matplotlib.pyplot as plt\n",
    "from sklearn.preprocessing import LabelEncoder, OneHotEncoder\n",
    "from sklearn.model_selection import train_test_split\n",
    "import tensorflow as tf\n",
    "tf.__version__"
   ]
  },
  {
   "cell_type": "markdown",
   "id": "recognized-model",
   "metadata": {},
   "source": [
    "## Paths & Config"
   ]
  },
  {
   "cell_type": "code",
   "execution_count": 2,
   "id": "compatible-beatles",
   "metadata": {},
   "outputs": [],
   "source": [
    "DATA_DIR = \"data/flower_photos\"\n",
    "CHECKPOINT = \"models/classifier-weights.hdf5\"\n",
    "SAVE_MODEL_PATH = \"models/classifier.h5\"\n",
    "TENSORBOARD = \"logs\"\n",
    "\n",
    "VALIDATION_SPLIT = 0.2\n",
    "\n",
    "WIDTH = 150\n",
    "HEIGHT = 150\n",
    "NUM_CHANNELS = 3\n",
    "INPUT_SHAPE = (WIDTH, HEIGHT, NUM_CHANNELS)\n",
    "\n",
    "LEARNING_RATE = 1e-4\n",
    "\n",
    "EPOCHS = 10\n",
    "BATCH_SIZE = 16"
   ]
  },
  {
   "cell_type": "markdown",
   "id": "distant-wright",
   "metadata": {},
   "source": [
    "## Data"
   ]
  },
  {
   "cell_type": "code",
   "execution_count": 3,
   "id": "mounted-threat",
   "metadata": {},
   "outputs": [
    {
     "name": "stdout",
     "output_type": "stream",
     "text": [
      "Total images: 736\n"
     ]
    }
   ],
   "source": [
    "# listing all images paths\n",
    "images = glob.glob(DATA_DIR+'/*/*.*')\n",
    "np.random.shuffle(images)\n",
    "n_samples = len(images)\n",
    "print(\"Total images:\", n_samples)"
   ]
  },
  {
   "cell_type": "code",
   "execution_count": 4,
   "id": "friendly-hostel",
   "metadata": {},
   "outputs": [
    {
     "name": "stdout",
     "output_type": "stream",
     "text": [
      "Total classes: 10\n"
     ]
    }
   ],
   "source": [
    "classes = [item for item in os.listdir(DATA_DIR) if os.path.isdir(os.path.join(DATA_DIR, item))]\n",
    "num_classes = len(classes)\n",
    "print(\"Total classes:\", num_classes)"
   ]
  },
  {
   "cell_type": "markdown",
   "id": "fatal-highlight",
   "metadata": {},
   "source": [
    "### Split train, val"
   ]
  },
  {
   "cell_type": "code",
   "execution_count": 5,
   "id": "distant-coverage",
   "metadata": {},
   "outputs": [],
   "source": [
    "train_images, val_images = train_test_split(images, test_size=VALIDATION_SPLIT)"
   ]
  },
  {
   "cell_type": "markdown",
   "id": "pending-description",
   "metadata": {},
   "source": [
    "### Build Data Generator"
   ]
  },
  {
   "cell_type": "code",
   "execution_count": 6,
   "id": "acoustic-trainer",
   "metadata": {},
   "outputs": [],
   "source": [
    "# Key-Value lookup to convert string labels to integer for label model uses\n",
    "table = tf.lookup.StaticHashTable(\n",
    "    tf.lookup.KeyValueTensorInitializer(classes, list(range(num_classes))),\n",
    "    0\n",
    ")\n",
    "    \n",
    "def process_path(file_path):\n",
    "    label = tf.strings.split(file_path, os.sep)[-2]\n",
    "    label = table.lookup(label)\n",
    "\n",
    "    img = tf.io.read_file(file_path)\n",
    "    img = tf.image.decode_jpeg(img, channels=NUM_CHANNELS)\n",
    "    img = tf.image.convert_image_dtype(img, tf.float32)\n",
    "    img = tf.image.resize_with_pad(img, WIDTH, HEIGHT)\n",
    "    img = img*(1./255)\n",
    "\n",
    "    return img, label"
   ]
  },
  {
   "cell_type": "code",
   "execution_count": 7,
   "id": "laughing-murder",
   "metadata": {},
   "outputs": [],
   "source": [
    "train_ds = tf.data.Dataset.list_files(train_images)\n",
    "val_ds = tf.data.Dataset.list_files(val_images)\n",
    "\n",
    "train_ds = train_ds.map(process_path)\n",
    "train_ds = train_ds.shuffle(1024)\n",
    "train_ds = train_ds.batch(BATCH_SIZE)\n",
    "train_ds = train_ds.repeat(EPOCHS)\n",
    "\n",
    "val_ds = val_ds.map(process_path)\n",
    "val_ds = val_ds.batch(BATCH_SIZE)\n",
    "val_ds = val_ds.repeat(EPOCHS)"
   ]
  },
  {
   "cell_type": "markdown",
   "id": "electronic-benchmark",
   "metadata": {},
   "source": [
    "## Model Transfer Learning"
   ]
  },
  {
   "cell_type": "code",
   "execution_count": 8,
   "id": "universal-rabbit",
   "metadata": {},
   "outputs": [
    {
     "name": "stdout",
     "output_type": "stream",
     "text": [
      "Model: \"sequential\"\n",
      "_________________________________________________________________\n",
      "Layer (type)                 Output Shape              Param #   \n",
      "=================================================================\n",
      "inception_v3 (Functional)    (None, 3, 3, 2048)        21802784  \n",
      "_________________________________________________________________\n",
      "globalaverage2d1 (GlobalAver (None, 2048)              0         \n",
      "_________________________________________________________________\n",
      "dense1024 (Dense)            (None, 1024)              2098176   \n",
      "_________________________________________________________________\n",
      "classifier (Dense)           (None, 10)                10250     \n",
      "=================================================================\n",
      "Total params: 23,911,210\n",
      "Trainable params: 2,108,426\n",
      "Non-trainable params: 21,802,784\n",
      "_________________________________________________________________\n",
      "None\n"
     ]
    }
   ],
   "source": [
    "def build_model(input_shape, num_classes):\n",
    "    base_model = tf.keras.applications.inception_v3.InceptionV3(\n",
    "        weights='imagenet',\n",
    "        include_top=False,\n",
    "        input_shape=input_shape)\n",
    "\n",
    "    # Freeze base model\n",
    "    base_model.trainable = False\n",
    "\n",
    "    # Build model\n",
    "    model = tf.keras.Sequential([\n",
    "        base_model,\n",
    "        tf.keras.layers.GlobalAveragePooling2D(name='globalaverage2d1'),\n",
    "        tf.keras.layers.Dense(1024, activation='relu', name='dense1024'),\n",
    "        tf.keras.layers.Dense(units=num_classes, activation='softmax', name='classifier')\n",
    "    ])\n",
    "\n",
    "    return model\n",
    "\n",
    "model = build_model(INPUT_SHAPE, num_classes)\n",
    "print(model.summary())"
   ]
  },
  {
   "cell_type": "markdown",
   "id": "political-insulation",
   "metadata": {},
   "source": [
    "### Loss & Optimizer"
   ]
  },
  {
   "cell_type": "code",
   "execution_count": 9,
   "id": "atomic-invention",
   "metadata": {},
   "outputs": [],
   "source": [
    "model.compile(loss=tf.keras.losses.SparseCategoricalCrossentropy(),\n",
    "              optimizer=tf.keras.optimizers.RMSprop(lr=LEARNING_RATE),\n",
    "              metrics=[\"acc\"])"
   ]
  },
  {
   "cell_type": "markdown",
   "id": "extraordinary-hammer",
   "metadata": {},
   "source": [
    "### Callbacks"
   ]
  },
  {
   "cell_type": "code",
   "execution_count": 10,
   "id": "continent-dining",
   "metadata": {},
   "outputs": [],
   "source": [
    "callback_checkpoint = tf.keras.callbacks.ModelCheckpoint(filepath=CHECKPOINT,\n",
    "                                                         verbose=0,\n",
    "                                                         save_weights_only=True)\n",
    "callback_tensorboard = tf.keras.callbacks.TensorBoard(log_dir=TENSORBOARD,\n",
    "                                                      write_images=True)\n",
    "\n",
    "callbacks = [callback_checkpoint, callback_tensorboard]"
   ]
  },
  {
   "cell_type": "markdown",
   "id": "structured-longer",
   "metadata": {},
   "source": [
    "## Training"
   ]
  },
  {
   "cell_type": "code",
   "execution_count": 11,
   "id": "violent-applicant",
   "metadata": {},
   "outputs": [
    {
     "name": "stdout",
     "output_type": "stream",
     "text": [
      "Epoch 1/10\n",
      "36/36 [==============================] - 275s 6s/step - loss: 2.2824 - acc: 0.0959 - val_loss: 2.2728 - val_acc: 0.1351\n",
      "Epoch 2/10\n",
      "36/36 [==============================] - 219s 6s/step - loss: 2.2150 - acc: 0.1615 - val_loss: 2.2713 - val_acc: 0.1554\n",
      "Epoch 3/10\n",
      "36/36 [==============================] - 220s 6s/step - loss: 2.1994 - acc: 0.1456 - val_loss: 2.2665 - val_acc: 0.1689\n",
      "Epoch 4/10\n",
      "36/36 [==============================] - 220s 6s/step - loss: 2.1990 - acc: 0.1984 - val_loss: 2.2661 - val_acc: 0.1419\n",
      "Epoch 5/10\n",
      "36/36 [==============================] - 212s 6s/step - loss: 2.1641 - acc: 0.1990 - val_loss: 2.2630 - val_acc: 0.1959\n",
      "Epoch 6/10\n",
      "36/36 [==============================] - 211s 6s/step - loss: 2.1935 - acc: 0.1999 - val_loss: 2.2584 - val_acc: 0.1419\n",
      "Epoch 7/10\n",
      "36/36 [==============================] - 211s 6s/step - loss: 2.1406 - acc: 0.1872 - val_loss: 2.2595 - val_acc: 0.1892\n",
      "Epoch 8/10\n",
      "36/36 [==============================] - 209s 6s/step - loss: 2.1741 - acc: 0.2208 - val_loss: 2.2544 - val_acc: 0.1216\n",
      "Epoch 9/10\n",
      "36/36 [==============================] - 209s 6s/step - loss: 2.1275 - acc: 0.2375 - val_loss: 2.2387 - val_acc: 0.2027\n",
      "Epoch 10/10\n",
      "36/36 [==============================] - 209s 6s/step - loss: 2.1420 - acc: 0.2761 - val_loss: 2.2346 - val_acc: 0.1959\n"
     ]
    }
   ],
   "source": [
    "steps_per_epoch = len(train_images) // BATCH_SIZE + 1\n",
    "validation_steps = len(val_images) // BATCH_SIZE + 1\n",
    "history = model.fit(\n",
    "    train_ds,\n",
    "    epochs=EPOCHS,\n",
    "    steps_per_epoch=steps_per_epoch,\n",
    "    validation_data=val_ds,\n",
    "    validation_steps=validation_steps,\n",
    "    callbacks=callbacks\n",
    ")"
   ]
  },
  {
   "cell_type": "code",
   "execution_count": 15,
   "id": "precious-calendar",
   "metadata": {},
   "outputs": [
    {
     "data": {
      "image/png": "[encoded data removed]",
      "text/plain": [
       "<Figure size 576x288 with 1 Axes>"
      ]
     },
     "metadata": {
      "needs_background": "light"
     },
     "output_type": "display_data"
    },
    {
     "data": {
      "image/png": "[encoded data removed]",
      "text/plain": [
       "<Figure size 576x288 with 1 Axes>"
      ]
     },
     "metadata": {
      "needs_background": "light"
     },
     "output_type": "display_data"
    }
   ],
   "source": [
    "acc = history.history['acc']\n",
    "loss = history.history['loss']\n",
    "val_acc = history.history['val_acc']\n",
    "val_loss = history.history['val_loss']\n",
    "epochs = range(1, len(acc) + 1)\n",
    "\n",
    "plt.figure(figsize=(8, 4))\n",
    "plt.plot(epochs, acc, 'bo', label='Training Accuracy')\n",
    "plt.plot(epochs, val_acc, 'b', label='Validation Accuracy')\n",
    "plt.xlabel('Epoch')\n",
    "plt.ylabel('Accuracy')\n",
    "plt.title('Training and validation accuracy')\n",
    "plt.legend(loc='best')\n",
    "plt.show()\n",
    "\n",
    "plt.figure(figsize=(8, 4))\n",
    "plt.plot(epochs, loss, 'bo', label='Training Loss')\n",
    "plt.plot(epochs, val_loss, 'b', label='Validation Loss')\n",
    "plt.xlabel('Epoch')\n",
    "plt.ylabel('Loss')\n",
    "plt.title('Training and validation loss')\n",
    "plt.legend(loc='best')\n",
    "plt.show()"
   ]
  },
  {
   "cell_type": "markdown",
   "id": "biological-mistake",
   "metadata": {},
   "source": [
    "## Save model"
   ]
  },
  {
   "cell_type": "code",
   "execution_count": 12,
   "id": "adjustable-essay",
   "metadata": {},
   "outputs": [],
   "source": [
    "model.save(SAVE_MODEL_PATH)"
   ]
  },
  {
   "cell_type": "markdown",
   "id": "amino-pregnancy",
   "metadata": {},
   "source": [
    "# Références\n",
    "* https://github.com/damienpontifex/mobilenet-classifier-transfer/blob/master/binary_classifier_train.py"
   ]
  }
 ],
 "metadata": {
  "kernelspec": {
   "display_name": "Python 3",
   "language": "python",
   "name": "python3"
  },
  "language_info": {
   "codemirror_mode": {
    "name": "ipython",
    "version": 3
   },
   "file_extension": ".py",
   "mimetype": "text/x-python",
   "name": "python",
   "nbconvert_exporter": "python",
   "pygments_lexer": "ipython3",
   "version": "3.8.8"
  }
 },
 "nbformat": 4,
 "nbformat_minor": 5
}
